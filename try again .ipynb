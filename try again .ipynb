{
    "cells": [
        {
            "cell_type": "code",
            "execution_count": 1,
            "metadata": {},
            "outputs": [
                {
                    "name": "stdout",
                    "output_type": "stream",
                    "text": "Waiting for a Spark session to start...\nSpark Initialization Done! ApplicationId = app-20201027213113-0000\nKERNEL_ID = 4d96732c-7473-4532-92df-a4d5bc0d8d99\n"
                },
                {
                    "data": {
                        "text/html": "<div>\n<style scoped>\n    .dataframe tbody tr th:only-of-type {\n        vertical-align: middle;\n    }\n\n    .dataframe tbody tr th {\n        vertical-align: top;\n    }\n\n    .dataframe thead th {\n        text-align: right;\n    }\n</style>\n<table border=\"1\" class=\"dataframe\">\n  <thead>\n    <tr style=\"text-align: right;\">\n      <th></th>\n      <th>Team</th>\n      <th>Player</th>\n      <th>Salary</th>\n      <th>Position</th>\n    </tr>\n  </thead>\n  <tbody>\n    <tr>\n      <th>0</th>\n      <td>New York Yankees</td>\n      <td>Acevedo, Juan</td>\n      <td>900,000</td>\n      <td>Pitcher</td>\n    </tr>\n    <tr>\n      <th>1</th>\n      <td>New York Yankees</td>\n      <td>Anderson, Jason</td>\n      <td>300,000</td>\n      <td>Pitcher</td>\n    </tr>\n    <tr>\n      <th>2</th>\n      <td>New York Yankees</td>\n      <td>Clemens, Roger</td>\n      <td>10,100,000</td>\n      <td>Pitcher</td>\n    </tr>\n    <tr>\n      <th>3</th>\n      <td>New York Yankees</td>\n      <td>Contreras, Jose</td>\n      <td>5,500,000</td>\n      <td>Pitcher</td>\n    </tr>\n    <tr>\n      <th>4</th>\n      <td>New York Yankees</td>\n      <td>Flaherty, John</td>\n      <td>750,000</td>\n      <td>Catcher</td>\n    </tr>\n  </tbody>\n</table>\n</div>",
                        "text/plain": "               Team           Player      Salary Position\n0  New York Yankees    Acevedo, Juan     900,000  Pitcher\n1  New York Yankees  Anderson, Jason     300,000  Pitcher\n2  New York Yankees   Clemens, Roger  10,100,000  Pitcher\n3  New York Yankees  Contreras, Jose   5,500,000  Pitcher\n4  New York Yankees   Flaherty, John     750,000  Catcher"
                    },
                    "execution_count": 1,
                    "metadata": {},
                    "output_type": "execute_result"
                }
            ],
            "source": "# The code was removed by Watson Studio for sharing."
        },
        {
            "cell_type": "code",
            "execution_count": null,
            "metadata": {},
            "outputs": [],
            "source": ""
        }
    ],
    "metadata": {
        "kernelspec": {
            "display_name": "Python 3.6 with Spark",
            "language": "python3",
            "name": "python36"
        },
        "language_info": {
            "codemirror_mode": {
                "name": "ipython",
                "version": 3
            },
            "file_extension": ".py",
            "mimetype": "text/x-python",
            "name": "python",
            "nbconvert_exporter": "python",
            "pygments_lexer": "ipython3",
            "version": "3.6.10"
        }
    },
    "nbformat": 4,
    "nbformat_minor": 1
}